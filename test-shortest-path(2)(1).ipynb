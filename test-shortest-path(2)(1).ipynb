{
 "cells": [
  {
   "cell_type": "code",
   "execution_count": 31,
   "metadata": {},
   "outputs": [],
   "source": [
    "import numpy as np\n",
    "from scipy.sparse import csr_matrix\n",
    "from scipy.sparse.csgraph import shortest_path\n",
    "from matplotlib import pyplot as plt\n",
    "from mpl_toolkits import mplot3d\n",
    "import matplotlib.pyplot as plt\n",
    "from matplotlib import cm\n",
    "from matplotlib.ticker import LinearLocator\n",
    "import numpy as np\n",
    "from mpl_toolkits.mplot3d import Axes3D\n",
    "from scipy.linalg import lstsq\n",
    "from scipy import integrate"
   ]
  },
  {
   "cell_type": "code",
   "execution_count": 15,
   "metadata": {},
   "outputs": [],
   "source": [
    "def coord2index(i, j):\n",
    "    return i*n + j\n",
    "def shortdis(x,y,x1,y1):\n",
    "    E = csr_matrix((n**2, n**2))\n",
    "    for i in range(n):\n",
    "        for j in range(n):\n",
    "            if A_store[i,j]!=1:\n",
    "                # testing the left direction\n",
    "                if j > 0: # if not on the left edge\n",
    "                    if A_store[i,j-1] != 1: # if there is no object to the left\n",
    "                        E[coord2index(i,j), coord2index(i,j-1)] = 1 # the edge from (i,j) to (i,j-1)\n",
    "                if j <(n-1):# if not on right edge\n",
    "                    if A_store[i,j+1]!=1:\n",
    "                        E[coord2index(i,j),coord2index(i,j+1)]=1\n",
    "                if i>0:# if not on upper edge\n",
    "                    if A_store[i-1,j]!=1:\n",
    "                        E[coord2index(i,j),coord2index(i-1,j)]=1\n",
    "                if i<(n-1):#if not on lower edge\n",
    "                    if A_store[i+1,j]!=1:\n",
    "                        E[coord2index(i,j),coord2index(i+1,j)]=1\n",
    "                if j<(n-1) and i<(n-1):#If not on right or lower\n",
    "                    if A_store[i+1,j+1]!=1:\n",
    "                        E[coord2index(i,j),coord2index(i+1,j+1)]=2**0.5\n",
    "                if j>0 and i<(n-1):#If not left lower\n",
    "                    if A_store[i+1,j-1]!=1:\n",
    "                        E[coord2index(i,j),coord2index(i+1,j-1)]=2**0.5\n",
    "                if i>0 and j > 0:#Not upper left\n",
    "                    if A_store[i-1,j-1]!=1:\n",
    "                        E[coord2index(i,j),coord2index(i-1,j-1)]=2**0.5\n",
    "                if i>0 and j<(n-1):#Not upper right\n",
    "                    if A_store[i-1,j+1]!=1:\n",
    "                        E[coord2index(i,j),coord2index(i-1,j+1)]=2**0.5\n",
    "\n",
    "            # TODO: do this for the rest of the directions. Make sure to weigh the diagonal entries\n",
    "            # accordingly!\n",
    "\n",
    "\n",
    "    # Finally, put our constructed E matrix into the shortest path finder\n",
    "\n",
    "    # first, get the index for the starting point\n",
    "    start_index = coord2index(y,x)\n",
    "    # feed this into scipy to find the \n",
    "    dist_matrix, predecessors = shortest_path(csgraph=E, directed=False, indices=start_index, return_predecessors=True)\n",
    "    # get the distance from the start point to (i_end, j_end)\n",
    "    return (dist_matrix[coord2index(y1,x1)])\n"
   ]
  },
  {
   "cell_type": "code",
   "execution_count": 18,
   "metadata": {},
   "outputs": [
    {
     "name": "stdout",
     "output_type": "stream",
     "text": [
      "[[0. 0. 0. 0. 0.]\n",
      " [0. 1. 0. 0. 0.]\n",
      " [1. 0. 1. 0. 0.]\n",
      " [0. 0. 0. 1. 0.]\n",
      " [0. 1. 0. 0. 1.]]\n"
     ]
    },
    {
     "name": "stderr",
     "output_type": "stream",
     "text": [
      "/Users/shizhuye/opt/anaconda3/lib/python3.9/site-packages/scipy/sparse/_index.py:82: SparseEfficiencyWarning: Changing the sparsity structure of a csr_matrix is expensive. lil_matrix is more efficient.\n",
      "  self._set_intXint(row, col, x.flat[0])\n"
     ]
    },
    {
     "data": {
      "image/png": "[encoded data removed]",
      "text/plain": [
       "<Figure size 432x288 with 1 Axes>"
      ]
     },
     "metadata": {
      "needs_background": "light"
     },
     "output_type": "display_data"
    },
    {
     "name": "stdout",
     "output_type": "stream",
     "text": [
      "0.0066406992744140894\n",
      "[ 2.37230539 -0.44523404 -0.63297595  0.0059609   0.12146187  0.12042574]\n"
     ]
    }
   ],
   "source": [
    "n = 5\n",
    "A_store = np.zeros((n,n))\n",
    "A_store[1,1] = 1\n",
    "A_store[2,2] = 1\n",
    "A_store[4,1] = 1\n",
    "A_store[3,3] = 1\n",
    "A_store[4,4] = 1\n",
    "A_store[2,0] = 1\n",
    "print(A_store)\n",
    "\n",
    "\n",
    "x_cor=[]\n",
    "y_cor=[]\n",
    "avgdist=[]\n",
    "for i in range(n):\n",
    "    for j in range(n):\n",
    "        x_cor.append(j)\n",
    "        y_cor.append(i)\n",
    "x_cord=[]\n",
    "y_cord=[]\n",
    "for i in range(n):\n",
    "    for j in range(n):\n",
    "        if A_store[i,j]==1:\n",
    "            x_cord.append(j)\n",
    "            y_cord.append(i)\n",
    "for i in range(len(x_cor)):\n",
    "    avgdis=0\n",
    "    for j in range(len(x_cord)):\n",
    "        A_store[y_cord[j],x_cord[j]]=0\n",
    "        if A_store[y_cor[i],x_cor[i]]==1:\n",
    "            A_store[y_cor[i],x_cor[i]]=0\n",
    "            avgdis+=shortdis(x_cor[i],y_cor[i],x_cord[j],y_cord[j])\n",
    "            A_store[y_cor[i],x_cor[i]]=1\n",
    "        else:\n",
    "            avgdis+=shortdis(x_cor[i],y_cor[i],x_cord[j],y_cord[j])\n",
    "        A_store[y_cord[j],x_cord[j]]=1\n",
    "    if A_store[y_cor[i],x_cor[i]]==1:\n",
    "        avgdist.append(avgdis/((len(x_cord)-1)))\n",
    "    else:\n",
    "        avgdist.append(avgdis/(len(x_cord)))\n",
    "for i in range(len(avgdist)):\n",
    "    avgdist[i]=(0.08118*avgdist[i]+3.69)**2-13.6161\n",
    "#Arrays\n",
    "       \n",
    "x=np.array(x_cor)\n",
    "y=np.array(y_cor)\n",
    "z=np.array(avgdist)\n",
    "o=[]\n",
    "for i in range(len(x)):\n",
    "    o.append(1)\n",
    "one=np.array(o)\n",
    "#Regression\n",
    "\n",
    "\n",
    "\n",
    "def quadratic_reg(x,y,z):\n",
    "    M = x[:, np.newaxis]*[0,1,0,0,0,0]+one[:, np.newaxis]*[1,0,0,0,0,0]+y[:, np.newaxis]*[0,0,1,0,0,0]\n",
    "    M=M+x[:, np.newaxis]*[0,0,0,1,0,0]*y[:, np.newaxis]*[0,0,0,1,0,0]+x[:, np.newaxis]*[0,0,0,0,1,0]*x[:, np.newaxis]*[0,0,0,0,1,0]\n",
    "    M=M+y[:, np.newaxis]*[0,0,0,0,0,1]*y[:, np.newaxis]*[0,0,0,0,0,1]\n",
    "    p, res, rnk, s = lstsq(M, z)\n",
    "    return p\n",
    "j=quadratic_reg(x,y,z)\n",
    "def function_quad(x,y):\n",
    "    z_cord=[]\n",
    "    for i in range(len(x)):\n",
    "        z_cord.append(j[0]+j[1]*x[i]+j[2]*y[i]+j[3]*x[i]*y[i]+j[4]*x[i]*x[i]+j[5]*y[i]*y[i])\n",
    "    return z_cord\n",
    "\n",
    "#Plot\n",
    "\n",
    "fig = plt.figure()\n",
    "ax = plt.axes(projection='3d')\n",
    "ax.scatter(x_cor,y_cor,avgdist,cmap='viridis', edgecolor='none')\n",
    "ax.scatter(x_cor,y_cor,function_quad(x_cor,y_cor),cmap='viridis', edgecolor='none')\n",
    "plt.show()\n",
    "#for i in range(25):\n",
    " #   print(\"(\",x_cor[i],\",\",y_cor[i],\",\",avgdist[i],\")\")\n",
    "dev=0\n",
    "for i in range(25):\n",
    "    dev+=abs(avgdist[i]-function_quad(x_cor,y_cor)[i])\n",
    "print((dev/25)**2)\n",
    "print(quadratic_reg(x,y,z))\n",
    "    "
   ]
  },
  {
   "cell_type": "code",
   "execution_count": 29,
   "metadata": {},
   "outputs": [
    {
     "name": "stdout",
     "output_type": "stream",
     "text": [
      "a\n",
      "a\n",
      "a\n",
      "a\n",
      "a\n",
      "a\n",
      "0\n"
     ]
    }
   ],
   "source": [
    "B_store=np.zeros((n,n))\n",
    "def popularity(Fame, Price,C):\n",
    "    return (((1-Price)*(1-Fame))**(1+C-Fame))+Fame\n",
    "pop=[]\n",
    "for i in range(len(x_cord)):\n",
    "    print(\"a\")\n",
    "quadratic_reg(x,y,z)"
   ]
  },
  {
   "cell_type": "code",
   "execution_count": 44,
   "metadata": {},
   "outputs": [
    {
     "data": {
      "text/plain": [
       "24.476740619479898"
      ]
     },
     "execution_count": 44,
     "metadata": {},
     "output_type": "execute_result"
    }
   ],
   "source": [
    "f = lambda y, x: kk[0]+kk[1]*x+kk[2]*y+kk[3]*x*y+kk[4]*x*x+kk[5]*y*y\n",
    "integrate.dblquad(f, 0, n-1, 0, n-1)[0]"
   ]
  },
  {
   "cell_type": "code",
   "execution_count": 43,
   "metadata": {},
   "outputs": [
    {
     "name": "stdout",
     "output_type": "stream",
     "text": [
      "[0 1 2 3 4 0 1 2 3 4 0 1 2 3 4 0 1 2 3 4 0 1 2 3 4]\n",
      "[0 0 0 0 0 1 1 1 1 1 2 2 2 2 2 3 3 3 3 3 4 4 4 4 4]\n"
     ]
    }
   ],
   "source": [
    "print(x)\n",
    "print(y)"
   ]
  }
 ],
 "metadata": {
  "kernelspec": {
   "display_name": "Python 3 (ipykernel)",
   "language": "python",
   "name": "python3"
  },
  "language_info": {
   "codemirror_mode": {
    "name": "ipython",
    "version": 3
   },
   "file_extension": ".py",
   "mimetype": "text/x-python",
   "name": "python",
   "nbconvert_exporter": "python",
   "pygments_lexer": "ipython3",
   "version": "3.9.12"
  },
  "vscode": {
   "interpreter": {
    "hash": "36ab7f9348c7d0662a1965af503f4376fbff05df74ea3a3ead8d3abcf8650cb8"
   }
  }
 },
 "nbformat": 4,
 "nbformat_minor": 4
}
